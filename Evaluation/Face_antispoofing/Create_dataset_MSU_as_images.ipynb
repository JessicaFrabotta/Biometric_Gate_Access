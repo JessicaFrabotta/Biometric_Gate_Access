{
 "cells": [
  {
   "cell_type": "code",
   "execution_count": 28,
   "id": "f58415ca-1d69-4986-85e0-909dce424cd9",
   "metadata": {},
   "outputs": [
    {
     "name": "stderr",
     "output_type": "stream",
     "text": [
      "0it [00:00, ?it/s]\n",
      "100%|████████████████████████████████████████████████████████████████████████████████| 420/420 [11:42<00:00,  1.67s/it]\n",
      "100%|████████████████████████████████████████████████████████████████████████████████| 140/140 [04:13<00:00,  1.81s/it]\n"
     ]
    }
   ],
   "source": [
    "import os\n",
    "import cv2\n",
    "from tqdm import tqdm\n",
    "\n",
    "def extract_frames_from_video(video_path, output_dir, base_name):\n",
    "    # This function extracts frames from a video file located at 'video_path' and saves them as images.\n",
    "    # 'output_dir' specifies the directory where the images will be saved.\n",
    "    # 'base_name' will be used as a prefix for the saved image files.\n",
    "    cap = cv2.VideoCapture(video_path) # Loop over frames in the video while the capture is open.\n",
    "    frame_count = 0\n",
    "    while cap.isOpened():\n",
    "        ret, frame = cap.read() # Read the next frame from the video.\n",
    "        if not ret:\n",
    "            break\n",
    "        frame_name = f\"{base_name}_{frame_count}.jpg\"\n",
    "        # Save the frame as a JPEG image in the specified output directory.\n",
    "        cv2.imwrite(os.path.join(output_dir, frame_name), frame)\n",
    "        frame_count += 1\n",
    "    cap.release()\n",
    "\n",
    "def create_dataset(root_dir, new_dataset_dir):\n",
    "    # This function creates a dataset of frames from videos stored in 'root_dir'.\n",
    "    # Frames will be saved in 'new_dataset_dir' under two subdirectories: 'attack' and 'real'.\n",
    "    # Create the new dataset directory and subdirectories for 'attack' and 'real' categories.\n",
    "    \n",
    "    # Ensure the new dataset directories exist\n",
    "    os.makedirs(new_dataset_dir, exist_ok=True)\n",
    "    attack_dir = os.path.join(new_dataset_dir, 'attack')\n",
    "    real_dir = os.path.join(new_dataset_dir, 'real')\n",
    "    os.makedirs(attack_dir, exist_ok=True)\n",
    "    os.makedirs(real_dir, exist_ok=True)\n",
    "\n",
    "    # Walk through the root directory to find the videos\n",
    "    for root, dirs, files in os.walk(root_dir):\n",
    "        for file in tqdm(files): # Iterate over all files\n",
    "            if file.endswith(('.mov', '.mp4')): # Check if the file is a video (MP4 or MOV format).\n",
    "                file_path = os.path.join(root, file) # Get the full path of the video file.\n",
    "                # Determine if the video is an 'attack' or 'real' based on the directory name.\n",
    "                if 'attack' in root:\n",
    "                    output_subdir = attack_dir\n",
    "                elif 'real' in root:\n",
    "                    output_subdir = real_dir\n",
    "                else:\n",
    "                    continue  # Skip files not in the 'attack' or 'real' directories.\n",
    "                \n",
    "                base_name = os.path.splitext(file)[0]\n",
    "                extract_frames_from_video(file_path, output_subdir, base_name)\n",
    "\n",
    "# Define the paths\n",
    "root_dir = r'C:\\Users\\Pepper\\Desktop\\MSU-MFSD-Dataset\\root\\scene01'\n",
    "new_dataset_dir = r'C:\\Users\\Pepper\\Desktop\\MSU-MFSD-Dataset\\new_dataset'\n",
    "\n",
    "# Create the new dataset\n",
    "create_dataset(root_dir, new_dataset_dir)\n"
   ]
  }
 ],
 "metadata": {
  "kernelspec": {
   "display_name": "Python 3 (ipykernel)",
   "language": "python",
   "name": "python3"
  },
  "language_info": {
   "codemirror_mode": {
    "name": "ipython",
    "version": 3
   },
   "file_extension": ".py",
   "mimetype": "text/x-python",
   "name": "python",
   "nbconvert_exporter": "python",
   "pygments_lexer": "ipython3",
   "version": "3.12.4"
  }
 },
 "nbformat": 4,
 "nbformat_minor": 5
}
